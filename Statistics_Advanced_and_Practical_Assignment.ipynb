{
 "cells": [
  {
   "cell_type": "markdown",
   "id": "58cdb344",
   "metadata": {},
   "source": [
    "## Statistics Advanced - Theory Questions"
   ]
  },
  {
   "cell_type": "markdown",
   "id": "e7342c56",
   "metadata": {},
   "source": [
    "### 1. What is a random variable in probability theory?\n",
    "*Answer here...*"
   ]
  },
  {
   "cell_type": "markdown",
   "id": "c3df4c27",
   "metadata": {},
   "source": [
    "### 2. What are the types of random variables?\n",
    "*Answer here...*"
   ]
  },
  {
   "cell_type": "markdown",
   "id": "99d9064a",
   "metadata": {},
   "source": [
    "### 3. What is the difference between discrete and continuous distributions?\n",
    "*Answer here...*"
   ]
  },
  {
   "cell_type": "markdown",
   "id": "64643fdc",
   "metadata": {},
   "source": [
    "### 4. What are probability distribution functions (PDF)?\n",
    "*Answer here...*"
   ]
  },
  {
   "cell_type": "markdown",
   "id": "1075114d",
   "metadata": {},
   "source": [
    "### 5. How do cumulative distribution functions (CDF) differ from PDF?\n",
    "*Answer here...*"
   ]
  },
  {
   "cell_type": "markdown",
   "id": "963a2f2a",
   "metadata": {},
   "source": [
    "### 6. What is a discrete uniform distribution?\n",
    "*Answer here...*"
   ]
  },
  {
   "cell_type": "markdown",
   "id": "8ac91713",
   "metadata": {},
   "source": [
    "### 7. What are the key properties of a Bernoulli distribution?\n",
    "*Answer here...*"
   ]
  },
  {
   "cell_type": "markdown",
   "id": "f22edec0",
   "metadata": {},
   "source": [
    "### 8. What is the binomial distribution, and how is it used?\n",
    "*Answer here...*"
   ]
  },
  {
   "cell_type": "markdown",
   "id": "e5419bde",
   "metadata": {},
   "source": [
    "### 9. What is the Poisson distribution and where is it applied?\n",
    "*Answer here...*"
   ]
  },
  {
   "cell_type": "markdown",
   "id": "d1acd31a",
   "metadata": {},
   "source": [
    "### 10. What is a continuous uniform distribution?\n",
    "*Answer here...*"
   ]
  },
  {
   "cell_type": "markdown",
   "id": "9a6e06b9",
   "metadata": {},
   "source": [
    "### 11. What are the characteristics of a normal distribution?\n",
    "*Answer here...*"
   ]
  },
  {
   "cell_type": "markdown",
   "id": "f1772f73",
   "metadata": {},
   "source": [
    "### 12. What is the standard normal distribution, and why is it important?\n",
    "*Answer here...*"
   ]
  },
  {
   "cell_type": "markdown",
   "id": "5e08eec9",
   "metadata": {},
   "source": [
    "### 13. What is the Central Limit Theorem (CLT), and why is it critical?\n",
    "*Answer here...*"
   ]
  },
  {
   "cell_type": "markdown",
   "id": "d1cd21cf",
   "metadata": {},
   "source": [
    "### 14. How does CLT relate to the normal distribution?\n",
    "*Answer here...*"
   ]
  },
  {
   "cell_type": "markdown",
   "id": "73190d1e",
   "metadata": {},
   "source": [
    "### 15. What is the application of Z statistics in hypothesis testing?\n",
    "*Answer here...*"
   ]
  },
  {
   "cell_type": "markdown",
   "id": "1ddfbc09",
   "metadata": {},
   "source": [
    "### 16. How do you calculate a Z-score, and what does it represent?\n",
    "*Answer here...*"
   ]
  },
  {
   "cell_type": "markdown",
   "id": "d396f2ab",
   "metadata": {},
   "source": [
    "### 17. What are point estimates and interval estimates?\n",
    "*Answer here...*"
   ]
  },
  {
   "cell_type": "markdown",
   "id": "a48e7b9a",
   "metadata": {},
   "source": [
    "### 18. What is the significance of confidence intervals?\n",
    "*Answer here...*"
   ]
  },
  {
   "cell_type": "markdown",
   "id": "ac6b6595",
   "metadata": {},
   "source": [
    "### 19. What is the relationship between a Z-score and a confidence interval?\n",
    "*Answer here...*"
   ]
  },
  {
   "cell_type": "markdown",
   "id": "59016e42",
   "metadata": {},
   "source": [
    "### 20. How are Z-scores used to compare different distributions?\n",
    "*Answer here...*"
   ]
  },
  {
   "cell_type": "markdown",
   "id": "90f20bbb",
   "metadata": {},
   "source": [
    "### 21. What are the assumptions for applying CLT?\n",
    "*Answer here...*"
   ]
  },
  {
   "cell_type": "markdown",
   "id": "627cfc96",
   "metadata": {},
   "source": [
    "### 22. What is the concept of expected value in a probability distribution?\n",
    "*Answer here...*"
   ]
  },
  {
   "cell_type": "markdown",
   "id": "b1d1860f",
   "metadata": {},
   "source": [
    "### 23. How does a probability distribution relate to the expected outcome of a random variable?\n",
    "*Answer here...*"
   ]
  },
  {
   "cell_type": "markdown",
   "id": "1018496d",
   "metadata": {},
   "source": [
    "## Statistics Advanced - Practical Python Questions"
   ]
  },
  {
   "cell_type": "markdown",
   "id": "ed45f182",
   "metadata": {},
   "source": [
    "### 1. Write a Python program to generate a random variable and display its value"
   ]
  },
  {
   "cell_type": "code",
   "execution_count": null,
   "id": "3b539c64",
   "metadata": {},
   "outputs": [],
   "source": [
    "# Q1 Solution\n",
    "\n",
    "# Write your Python code here"
   ]
  },
  {
   "cell_type": "markdown",
   "id": "9db42993",
   "metadata": {},
   "source": [
    "### 2. Generate a discrete uniform distribution using Python and plot the PMF"
   ]
  },
  {
   "cell_type": "code",
   "execution_count": null,
   "id": "5be44495",
   "metadata": {},
   "outputs": [],
   "source": [
    "# Q2 Solution\n",
    "\n",
    "# Write your Python code here"
   ]
  },
  {
   "cell_type": "markdown",
   "id": "e1dac652",
   "metadata": {},
   "source": [
    "### 3. Write a Python function to calculate the PDF of a Bernoulli distribution"
   ]
  },
  {
   "cell_type": "code",
   "execution_count": null,
   "id": "4df7ab12",
   "metadata": {},
   "outputs": [],
   "source": [
    "# Q3 Solution\n",
    "\n",
    "# Write your Python code here"
   ]
  },
  {
   "cell_type": "markdown",
   "id": "98bb9347",
   "metadata": {},
   "source": [
    "### 4. Write a Python script to simulate a binomial distribution (n=10, p=0.5), plot histogram"
   ]
  },
  {
   "cell_type": "code",
   "execution_count": null,
   "id": "1630ea52",
   "metadata": {},
   "outputs": [],
   "source": [
    "# Q4 Solution\n",
    "\n",
    "# Write your Python code here"
   ]
  },
  {
   "cell_type": "markdown",
   "id": "843df258",
   "metadata": {},
   "source": [
    "### 5. Create a Poisson distribution and visualize it"
   ]
  },
  {
   "cell_type": "code",
   "execution_count": null,
   "id": "4cc0d3d9",
   "metadata": {},
   "outputs": [],
   "source": [
    "# Q5 Solution\n",
    "\n",
    "# Write your Python code here"
   ]
  },
  {
   "cell_type": "markdown",
   "id": "925249a6",
   "metadata": {},
   "source": [
    "### 6. Write a Python program to calculate and plot the CDF of a discrete uniform distribution"
   ]
  },
  {
   "cell_type": "code",
   "execution_count": null,
   "id": "2a442dce",
   "metadata": {},
   "outputs": [],
   "source": [
    "# Q6 Solution\n",
    "\n",
    "# Write your Python code here"
   ]
  },
  {
   "cell_type": "markdown",
   "id": "b5f94e6e",
   "metadata": {},
   "source": [
    "### 7. Generate a continuous uniform distribution using NumPy and visualize it"
   ]
  },
  {
   "cell_type": "code",
   "execution_count": null,
   "id": "38030b1e",
   "metadata": {},
   "outputs": [],
   "source": [
    "# Q7 Solution\n",
    "\n",
    "# Write your Python code here"
   ]
  },
  {
   "cell_type": "markdown",
   "id": "02b5aeb2",
   "metadata": {},
   "source": [
    "### 8. Simulate data from a normal distribution and plot its histogram"
   ]
  },
  {
   "cell_type": "code",
   "execution_count": null,
   "id": "b0e4e2e5",
   "metadata": {},
   "outputs": [],
   "source": [
    "# Q8 Solution\n",
    "\n",
    "# Write your Python code here"
   ]
  },
  {
   "cell_type": "markdown",
   "id": "45e532b2",
   "metadata": {},
   "source": [
    "### 9. Write a Python function to calculate Z-scores from a dataset and plot them"
   ]
  },
  {
   "cell_type": "code",
   "execution_count": null,
   "id": "1ba4588c",
   "metadata": {},
   "outputs": [],
   "source": [
    "# Q9 Solution\n",
    "\n",
    "# Write your Python code here"
   ]
  },
  {
   "cell_type": "markdown",
   "id": "0ab7d741",
   "metadata": {},
   "source": [
    "### 10. Implement the Central Limit Theorem (CLT) using Python for a non-normal distribution"
   ]
  },
  {
   "cell_type": "code",
   "execution_count": null,
   "id": "bf3dac66",
   "metadata": {},
   "outputs": [],
   "source": [
    "# Q10 Solution\n",
    "\n",
    "# Write your Python code here"
   ]
  },
  {
   "cell_type": "markdown",
   "id": "db3d9f15",
   "metadata": {},
   "source": [
    "## Practical Python Assignments"
   ]
  },
  {
   "cell_type": "markdown",
   "id": "4107dad4",
   "metadata": {},
   "source": [
    "### 1. Simulate multiple samples from a normal distribution and verify CLT"
   ]
  },
  {
   "cell_type": "code",
   "execution_count": null,
   "id": "e6367c42",
   "metadata": {},
   "outputs": [],
   "source": [
    "# Q1 Solution\n",
    "\n",
    "# Write your Python code here"
   ]
  },
  {
   "cell_type": "markdown",
   "id": "d58ea1f5",
   "metadata": {},
   "source": [
    "### 2. Write a Python function to calculate and plot the standard normal distribution (mean=0, std=1)"
   ]
  },
  {
   "cell_type": "code",
   "execution_count": null,
   "id": "e6c1af74",
   "metadata": {},
   "outputs": [],
   "source": [
    "# Q2 Solution\n",
    "\n",
    "# Write your Python code here"
   ]
  },
  {
   "cell_type": "markdown",
   "id": "b7ed08dd",
   "metadata": {},
   "source": [
    "### 3. Generate random variables and calculate probabilities using the binomial distribution"
   ]
  },
  {
   "cell_type": "code",
   "execution_count": null,
   "id": "c711902c",
   "metadata": {},
   "outputs": [],
   "source": [
    "# Q3 Solution\n",
    "\n",
    "# Write your Python code here"
   ]
  },
  {
   "cell_type": "markdown",
   "id": "f65d4d77",
   "metadata": {},
   "source": [
    "### 4. Write a Python program to calculate the Z-score for a data point and compare it"
   ]
  },
  {
   "cell_type": "code",
   "execution_count": null,
   "id": "dfd522ce",
   "metadata": {},
   "outputs": [],
   "source": [
    "# Q4 Solution\n",
    "\n",
    "# Write your Python code here"
   ]
  },
  {
   "cell_type": "markdown",
   "id": "8c098410",
   "metadata": {},
   "source": [
    "### 5. Implement hypothesis testing using Z-statistics for a sample dataset"
   ]
  },
  {
   "cell_type": "code",
   "execution_count": null,
   "id": "b46e7f95",
   "metadata": {},
   "outputs": [],
   "source": [
    "# Q5 Solution\n",
    "\n",
    "# Write your Python code here"
   ]
  },
  {
   "cell_type": "markdown",
   "id": "a7fc1ca9",
   "metadata": {},
   "source": [
    "### 6. Create a confidence interval for a dataset using Python and interpret the result"
   ]
  },
  {
   "cell_type": "code",
   "execution_count": null,
   "id": "935a10dc",
   "metadata": {},
   "outputs": [],
   "source": [
    "# Q6 Solution\n",
    "\n",
    "# Write your Python code here"
   ]
  },
  {
   "cell_type": "markdown",
   "id": "657476a5",
   "metadata": {},
   "source": [
    "### 7. Generate data from a normal distribution, calculate & interpret the confidence interval"
   ]
  },
  {
   "cell_type": "code",
   "execution_count": null,
   "id": "2d5274f9",
   "metadata": {},
   "outputs": [],
   "source": [
    "# Q7 Solution\n",
    "\n",
    "# Write your Python code here"
   ]
  },
  {
   "cell_type": "markdown",
   "id": "2a47d8ad",
   "metadata": {},
   "source": [
    "### 8. Write a Python script to calculate & visualize the PDF of a normal distribution"
   ]
  },
  {
   "cell_type": "code",
   "execution_count": null,
   "id": "2d5908ab",
   "metadata": {},
   "outputs": [],
   "source": [
    "# Q8 Solution\n",
    "\n",
    "# Write your Python code here"
   ]
  },
  {
   "cell_type": "markdown",
   "id": "06acd2b0",
   "metadata": {},
   "source": [
    "### 9. Use Python to calculate & interpret the CDF of a Poisson distribution"
   ]
  },
  {
   "cell_type": "code",
   "execution_count": null,
   "id": "7ef27c7a",
   "metadata": {},
   "outputs": [],
   "source": [
    "# Q9 Solution\n",
    "\n",
    "# Write your Python code here"
   ]
  },
  {
   "cell_type": "markdown",
   "id": "96c5bf9c",
   "metadata": {},
   "source": [
    "### 10. Simulate a random variable using continuous uniform distribution and calculate expected value"
   ]
  },
  {
   "cell_type": "code",
   "execution_count": null,
   "id": "db9621d4",
   "metadata": {},
   "outputs": [],
   "source": [
    "# Q10 Solution\n",
    "\n",
    "# Write your Python code here"
   ]
  },
  {
   "cell_type": "markdown",
   "id": "a33be11f",
   "metadata": {},
   "source": [
    "### 11. Write a Python program to compare standard deviations of two datasets and visualize"
   ]
  },
  {
   "cell_type": "code",
   "execution_count": null,
   "id": "9babfc67",
   "metadata": {},
   "outputs": [],
   "source": [
    "# Q11 Solution\n",
    "\n",
    "# Write your Python code here"
   ]
  },
  {
   "cell_type": "markdown",
   "id": "53992c28",
   "metadata": {},
   "source": [
    "### 12. Calculate the range and IQR of a dataset from a normal distribution"
   ]
  },
  {
   "cell_type": "code",
   "execution_count": null,
   "id": "accbb1fe",
   "metadata": {},
   "outputs": [],
   "source": [
    "# Q12 Solution\n",
    "\n",
    "# Write your Python code here"
   ]
  },
  {
   "cell_type": "markdown",
   "id": "b389a45b",
   "metadata": {},
   "source": [
    "### 13. Implement Z-score normalization on a dataset and visualize its transformation"
   ]
  },
  {
   "cell_type": "code",
   "execution_count": null,
   "id": "b5adc60a",
   "metadata": {},
   "outputs": [],
   "source": [
    "# Q13 Solution\n",
    "\n",
    "# Write your Python code here"
   ]
  },
  {
   "cell_type": "markdown",
   "id": "3e91a41e",
   "metadata": {},
   "source": [
    "### 14. Write a Python function to calculate skewness and kurtosis of a dataset"
   ]
  },
  {
   "cell_type": "code",
   "execution_count": null,
   "id": "72294c97",
   "metadata": {},
   "outputs": [],
   "source": [
    "# Q14 Solution\n",
    "\n",
    "# Write your Python code here"
   ]
  },
  {
   "cell_type": "markdown",
   "id": "3af43429",
   "metadata": {},
   "source": [
    "### 15. [Add your custom question here]"
   ]
  },
  {
   "cell_type": "code",
   "execution_count": null,
   "id": "433ade53",
   "metadata": {},
   "outputs": [],
   "source": [
    "# Q15 Solution\n",
    "\n",
    "# Write your Python code here"
   ]
  },
  {
   "cell_type": "markdown",
   "id": "95c32d06",
   "metadata": {},
   "source": [
    "### 16. [Add your custom question here]"
   ]
  },
  {
   "cell_type": "code",
   "execution_count": null,
   "id": "f15018a7",
   "metadata": {},
   "outputs": [],
   "source": [
    "# Q16 Solution\n",
    "\n",
    "# Write your Python code here"
   ]
  },
  {
   "cell_type": "markdown",
   "id": "d62f5dec",
   "metadata": {},
   "source": [
    "### 17. [Add your custom question here]"
   ]
  },
  {
   "cell_type": "code",
   "execution_count": null,
   "id": "b4475ff6",
   "metadata": {},
   "outputs": [],
   "source": [
    "# Q17 Solution\n",
    "\n",
    "# Write your Python code here"
   ]
  },
  {
   "cell_type": "markdown",
   "id": "ce8b0e0d",
   "metadata": {},
   "source": [
    "### 18. [Add your custom question here]"
   ]
  },
  {
   "cell_type": "code",
   "execution_count": null,
   "id": "ace5a6db",
   "metadata": {},
   "outputs": [],
   "source": [
    "# Q18 Solution\n",
    "\n",
    "# Write your Python code here"
   ]
  },
  {
   "cell_type": "markdown",
   "id": "a01ec128",
   "metadata": {},
   "source": [
    "### 19. [Add your custom question here]"
   ]
  },
  {
   "cell_type": "code",
   "execution_count": null,
   "id": "42c893f8",
   "metadata": {},
   "outputs": [],
   "source": [
    "# Q19 Solution\n",
    "\n",
    "# Write your Python code here"
   ]
  },
  {
   "cell_type": "markdown",
   "id": "abaed9e5",
   "metadata": {},
   "source": [
    "### 20. [Add your custom question here]"
   ]
  },
  {
   "cell_type": "code",
   "execution_count": null,
   "id": "13386fbf",
   "metadata": {},
   "outputs": [],
   "source": [
    "# Q20 Solution\n",
    "\n",
    "# Write your Python code here"
   ]
  },
  {
   "cell_type": "markdown",
   "id": "ea85fb77",
   "metadata": {},
   "source": [
    "### 21. [Add your custom question here]"
   ]
  },
  {
   "cell_type": "code",
   "execution_count": null,
   "id": "1ed29930",
   "metadata": {},
   "outputs": [],
   "source": [
    "# Q21 Solution\n",
    "\n",
    "# Write your Python code here"
   ]
  },
  {
   "cell_type": "markdown",
   "id": "2c307607",
   "metadata": {},
   "source": [
    "### 22. [Add your custom question here]"
   ]
  },
  {
   "cell_type": "code",
   "execution_count": null,
   "id": "5c03be42",
   "metadata": {},
   "outputs": [],
   "source": [
    "# Q22 Solution\n",
    "\n",
    "# Write your Python code here"
   ]
  },
  {
   "cell_type": "markdown",
   "id": "07fe45ea",
   "metadata": {},
   "source": [
    "### 23. [Add your custom question here]"
   ]
  },
  {
   "cell_type": "code",
   "execution_count": null,
   "id": "f3bab526",
   "metadata": {},
   "outputs": [],
   "source": [
    "# Q23 Solution\n",
    "\n",
    "# Write your Python code here"
   ]
  },
  {
   "cell_type": "markdown",
   "id": "96d34012",
   "metadata": {},
   "source": [
    "### 24. [Add your custom question here]"
   ]
  },
  {
   "cell_type": "code",
   "execution_count": null,
   "id": "dcf856e8",
   "metadata": {},
   "outputs": [],
   "source": [
    "# Q24 Solution\n",
    "\n",
    "# Write your Python code here"
   ]
  },
  {
   "cell_type": "markdown",
   "id": "e7419545",
   "metadata": {},
   "source": [
    "### 25. [Add your custom question here]"
   ]
  },
  {
   "cell_type": "code",
   "execution_count": null,
   "id": "900e0d46",
   "metadata": {},
   "outputs": [],
   "source": [
    "# Q25 Solution\n",
    "\n",
    "# Write your Python code here"
   ]
  },
  {
   "cell_type": "markdown",
   "id": "9a343d08",
   "metadata": {},
   "source": [
    "### 26. [Add your custom question here]"
   ]
  },
  {
   "cell_type": "code",
   "execution_count": null,
   "id": "9d84d6f2",
   "metadata": {},
   "outputs": [],
   "source": [
    "# Q26 Solution\n",
    "\n",
    "# Write your Python code here"
   ]
  },
  {
   "cell_type": "markdown",
   "id": "b7b44e4d",
   "metadata": {},
   "source": [
    "### 27. [Add your custom question here]"
   ]
  },
  {
   "cell_type": "code",
   "execution_count": null,
   "id": "335cf54f",
   "metadata": {},
   "outputs": [],
   "source": [
    "# Q27 Solution\n",
    "\n",
    "# Write your Python code here"
   ]
  },
  {
   "cell_type": "markdown",
   "id": "8636a230",
   "metadata": {},
   "source": [
    "### 28. [Add your custom question here]"
   ]
  },
  {
   "cell_type": "code",
   "execution_count": null,
   "id": "83a0c1cc",
   "metadata": {},
   "outputs": [],
   "source": [
    "# Q28 Solution\n",
    "\n",
    "# Write your Python code here"
   ]
  }
 ],
 "metadata": {},
 "nbformat": 4,
 "nbformat_minor": 5
}
